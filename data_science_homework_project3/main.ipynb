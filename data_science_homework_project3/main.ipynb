{
 "cells": [
  {
   "cell_type": "code",
   "execution_count": 1,
   "id": "6c277e06",
   "metadata": {},
   "outputs": [],
   "source": [
    "# project: p12\n",
    "# submitter: yye64\n",
    "# partner: none\n",
    "# hours: 5\n"
   ]
  },
  {
   "cell_type": "code",
   "execution_count": 1,
   "id": "aaff7cfb",
   "metadata": {},
   "outputs": [],
   "source": [
    "import requests\n",
    "import os\n",
    "import json\n",
    "import pandas as pd\n",
    "from bs4 import BeautifulSoup"
   ]
  },
  {
   "cell_type": "code",
   "execution_count": 2,
   "id": "8f0d24fb",
   "metadata": {},
   "outputs": [],
   "source": [
    "def download(filename, url):\n",
    "    if os.path.exists(filename):\n",
    "        return (str(filename) + \" already exists!\")\n",
    "    try:\n",
    "        r = requests.get(url)\n",
    "        r.raise_for_status()\n",
    "        data_read = r.text \n",
    "        file = open(filename, \"w\")\n",
    "        file.write(data_read)\n",
    "        file.close()\n",
    "    except requests.HTTPError as e:\n",
    "        print(\"HTTPError\", e)\n",
    "    \n",
    "    return (str(filename) + \" created!\")"
   ]
  },
  {
   "cell_type": "code",
   "execution_count": 3,
   "id": "cfea6326",
   "metadata": {},
   "outputs": [
    {
     "data": {
      "text/plain": [
       "'rankings.json already exists!'"
      ]
     },
     "execution_count": 3,
     "metadata": {},
     "output_type": "execute_result"
    }
   ],
   "source": [
    "download(\"rankings.json\", \"https://raw.githubusercontent.com/msyamkumar/cs220-s22-projects/main/p12/rankings.json\")\n",
    "\n"
   ]
  },
  {
   "cell_type": "code",
   "execution_count": 5,
   "id": "77d28756",
   "metadata": {},
   "outputs": [
    {
     "data": {
      "text/html": [
       "<div>\n",
       "<style scoped>\n",
       "    .dataframe tbody tr th:only-of-type {\n",
       "        vertical-align: middle;\n",
       "    }\n",
       "\n",
       "    .dataframe tbody tr th {\n",
       "        vertical-align: top;\n",
       "    }\n",
       "\n",
       "    .dataframe thead th {\n",
       "        text-align: right;\n",
       "    }\n",
       "</style>\n",
       "<table border=\"1\" class=\"dataframe\">\n",
       "  <thead>\n",
       "    <tr style=\"text-align: right;\">\n",
       "      <th></th>\n",
       "      <th>World Rank</th>\n",
       "      <th>Year</th>\n",
       "      <th>Institution</th>\n",
       "      <th>Country</th>\n",
       "      <th>National Rank</th>\n",
       "      <th>Quality of Education Rank</th>\n",
       "      <th>Alumni Employment Rank</th>\n",
       "      <th>Quality of Faculty Rank</th>\n",
       "      <th>Research Performance Rank</th>\n",
       "      <th>Score</th>\n",
       "    </tr>\n",
       "  </thead>\n",
       "  <tbody>\n",
       "    <tr>\n",
       "      <th>0</th>\n",
       "      <td>1</td>\n",
       "      <td>2019-2020</td>\n",
       "      <td>Harvard University</td>\n",
       "      <td>USA</td>\n",
       "      <td>1</td>\n",
       "      <td>2.0</td>\n",
       "      <td>1.0</td>\n",
       "      <td>1.0</td>\n",
       "      <td>1.0</td>\n",
       "      <td>100.0</td>\n",
       "    </tr>\n",
       "    <tr>\n",
       "      <th>1</th>\n",
       "      <td>2</td>\n",
       "      <td>2019-2020</td>\n",
       "      <td>Massachusetts Institute of Technology</td>\n",
       "      <td>USA</td>\n",
       "      <td>2</td>\n",
       "      <td>1.0</td>\n",
       "      <td>10.0</td>\n",
       "      <td>2.0</td>\n",
       "      <td>5.0</td>\n",
       "      <td>96.7</td>\n",
       "    </tr>\n",
       "    <tr>\n",
       "      <th>2</th>\n",
       "      <td>3</td>\n",
       "      <td>2019-2020</td>\n",
       "      <td>Stanford University</td>\n",
       "      <td>USA</td>\n",
       "      <td>3</td>\n",
       "      <td>9.0</td>\n",
       "      <td>3.0</td>\n",
       "      <td>3.0</td>\n",
       "      <td>2.0</td>\n",
       "      <td>95.2</td>\n",
       "    </tr>\n",
       "    <tr>\n",
       "      <th>3</th>\n",
       "      <td>4</td>\n",
       "      <td>2019-2020</td>\n",
       "      <td>University of Cambridge</td>\n",
       "      <td>United Kingdom</td>\n",
       "      <td>1</td>\n",
       "      <td>4.0</td>\n",
       "      <td>19.0</td>\n",
       "      <td>5.0</td>\n",
       "      <td>11.0</td>\n",
       "      <td>94.1</td>\n",
       "    </tr>\n",
       "    <tr>\n",
       "      <th>4</th>\n",
       "      <td>5</td>\n",
       "      <td>2019-2020</td>\n",
       "      <td>University of Oxford</td>\n",
       "      <td>United Kingdom</td>\n",
       "      <td>2</td>\n",
       "      <td>10.0</td>\n",
       "      <td>24.0</td>\n",
       "      <td>10.0</td>\n",
       "      <td>4.0</td>\n",
       "      <td>93.3</td>\n",
       "    </tr>\n",
       "    <tr>\n",
       "      <th>...</th>\n",
       "      <td>...</td>\n",
       "      <td>...</td>\n",
       "      <td>...</td>\n",
       "      <td>...</td>\n",
       "      <td>...</td>\n",
       "      <td>...</td>\n",
       "      <td>...</td>\n",
       "      <td>...</td>\n",
       "      <td>...</td>\n",
       "      <td>...</td>\n",
       "    </tr>\n",
       "    <tr>\n",
       "      <th>5995</th>\n",
       "      <td>1996</td>\n",
       "      <td>2021-2022</td>\n",
       "      <td>Santa Catarina State University</td>\n",
       "      <td>Brazil</td>\n",
       "      <td>56</td>\n",
       "      <td>NaN</td>\n",
       "      <td>936.0</td>\n",
       "      <td>NaN</td>\n",
       "      <td>1938.0</td>\n",
       "      <td>65.8</td>\n",
       "    </tr>\n",
       "    <tr>\n",
       "      <th>5996</th>\n",
       "      <td>1997</td>\n",
       "      <td>2021-2022</td>\n",
       "      <td>Yancheng Institute of Technology</td>\n",
       "      <td>China</td>\n",
       "      <td>275</td>\n",
       "      <td>NaN</td>\n",
       "      <td>NaN</td>\n",
       "      <td>NaN</td>\n",
       "      <td>1920.0</td>\n",
       "      <td>65.7</td>\n",
       "    </tr>\n",
       "    <tr>\n",
       "      <th>5997</th>\n",
       "      <td>1998</td>\n",
       "      <td>2021-2022</td>\n",
       "      <td>Xi'an University of Science and Technology</td>\n",
       "      <td>China</td>\n",
       "      <td>276</td>\n",
       "      <td>NaN</td>\n",
       "      <td>994.0</td>\n",
       "      <td>NaN</td>\n",
       "      <td>1937.0</td>\n",
       "      <td>65.7</td>\n",
       "    </tr>\n",
       "    <tr>\n",
       "      <th>5998</th>\n",
       "      <td>1999</td>\n",
       "      <td>2021-2022</td>\n",
       "      <td>CEU San Pablo University</td>\n",
       "      <td>Spain</td>\n",
       "      <td>53</td>\n",
       "      <td>NaN</td>\n",
       "      <td>568.0</td>\n",
       "      <td>NaN</td>\n",
       "      <td>1992.0</td>\n",
       "      <td>65.7</td>\n",
       "    </tr>\n",
       "    <tr>\n",
       "      <th>5999</th>\n",
       "      <td>2000</td>\n",
       "      <td>2021-2022</td>\n",
       "      <td>Huzhou University</td>\n",
       "      <td>China</td>\n",
       "      <td>277</td>\n",
       "      <td>NaN</td>\n",
       "      <td>NaN</td>\n",
       "      <td>NaN</td>\n",
       "      <td>1922.0</td>\n",
       "      <td>65.7</td>\n",
       "    </tr>\n",
       "  </tbody>\n",
       "</table>\n",
       "<p>6000 rows × 10 columns</p>\n",
       "</div>"
      ],
      "text/plain": [
       "      World Rank       Year                                 Institution  \\\n",
       "0              1  2019-2020                          Harvard University   \n",
       "1              2  2019-2020       Massachusetts Institute of Technology   \n",
       "2              3  2019-2020                         Stanford University   \n",
       "3              4  2019-2020                     University of Cambridge   \n",
       "4              5  2019-2020                        University of Oxford   \n",
       "...          ...        ...                                         ...   \n",
       "5995        1996  2021-2022             Santa Catarina State University   \n",
       "5996        1997  2021-2022            Yancheng Institute of Technology   \n",
       "5997        1998  2021-2022  Xi'an University of Science and Technology   \n",
       "5998        1999  2021-2022                    CEU San Pablo University   \n",
       "5999        2000  2021-2022                           Huzhou University   \n",
       "\n",
       "             Country  National Rank  Quality of Education Rank  \\\n",
       "0                USA              1                        2.0   \n",
       "1                USA              2                        1.0   \n",
       "2                USA              3                        9.0   \n",
       "3     United Kingdom              1                        4.0   \n",
       "4     United Kingdom              2                       10.0   \n",
       "...              ...            ...                        ...   \n",
       "5995          Brazil             56                        NaN   \n",
       "5996           China            275                        NaN   \n",
       "5997           China            276                        NaN   \n",
       "5998           Spain             53                        NaN   \n",
       "5999           China            277                        NaN   \n",
       "\n",
       "      Alumni Employment Rank  Quality of Faculty Rank  \\\n",
       "0                        1.0                      1.0   \n",
       "1                       10.0                      2.0   \n",
       "2                        3.0                      3.0   \n",
       "3                       19.0                      5.0   \n",
       "4                       24.0                     10.0   \n",
       "...                      ...                      ...   \n",
       "5995                   936.0                      NaN   \n",
       "5996                     NaN                      NaN   \n",
       "5997                   994.0                      NaN   \n",
       "5998                   568.0                      NaN   \n",
       "5999                     NaN                      NaN   \n",
       "\n",
       "      Research Performance Rank  Score  \n",
       "0                           1.0  100.0  \n",
       "1                           5.0   96.7  \n",
       "2                           2.0   95.2  \n",
       "3                          11.0   94.1  \n",
       "4                           4.0   93.3  \n",
       "...                         ...    ...  \n",
       "5995                     1938.0   65.8  \n",
       "5996                     1920.0   65.7  \n",
       "5997                     1937.0   65.7  \n",
       "5998                     1992.0   65.7  \n",
       "5999                     1922.0   65.7  \n",
       "\n",
       "[6000 rows x 10 columns]"
      ]
     },
     "execution_count": 5,
     "metadata": {},
     "output_type": "execute_result"
    }
   ],
   "source": [
    "json_file = pd.read_json(\"rankings.json\")\n",
    "rankings = pd.DataFrame(json_file)\n",
    "rankings\n"
   ]
  },
  {
   "cell_type": "code",
   "execution_count": null,
   "id": "4729fa8c",
   "metadata": {},
   "outputs": [],
   "source": []
  },
  {
   "cell_type": "code",
   "execution_count": 6,
   "id": "4b59703d",
   "metadata": {},
   "outputs": [
    {
     "data": {
      "text/plain": [
       "'2021-2022.html created!'"
      ]
     },
     "execution_count": 6,
     "metadata": {},
     "output_type": "execute_result"
    }
   ],
   "source": [
    "download(\"2019-2020.html\", 'https://raw.githubusercontent.com/msyamkumar/cs220-s22-projects/main/p12/2019-2020.html')\n",
    "download(\"2020-2021.html\", 'https://raw.githubusercontent.com/msyamkumar/cs220-s22-projects/main/p12/2020-2021.html')\n",
    "download(\"2021-2022.html\", 'https://raw.githubusercontent.com/msyamkumar/cs220-s22-projects/main/p12/2021-2022.html')\n"
   ]
  },
  {
   "cell_type": "code",
   "execution_count": 7,
   "id": "acc646e1",
   "metadata": {},
   "outputs": [
    {
     "data": {
      "text/plain": [
       "103"
      ]
     },
     "execution_count": 7,
     "metadata": {},
     "output_type": "execute_result"
    }
   ],
   "source": [
    "#Q1: How many countries do we have in our dataset?\n",
    "country_set = set(rankings[\"Country\"])\n",
    "country_count = len(country_set)\n",
    "country_count"
   ]
  },
  {
   "cell_type": "code",
   "execution_count": 29,
   "id": "df349729",
   "metadata": {},
   "outputs": [
    {
     "data": {
      "text/html": [
       "<div>\n",
       "<style scoped>\n",
       "    .dataframe tbody tr th:only-of-type {\n",
       "        vertical-align: middle;\n",
       "    }\n",
       "\n",
       "    .dataframe tbody tr th {\n",
       "        vertical-align: top;\n",
       "    }\n",
       "\n",
       "    .dataframe thead th {\n",
       "        text-align: right;\n",
       "    }\n",
       "</style>\n",
       "<table border=\"1\" class=\"dataframe\">\n",
       "  <thead>\n",
       "    <tr style=\"text-align: right;\">\n",
       "      <th></th>\n",
       "      <th>World Rank</th>\n",
       "      <th>Year</th>\n",
       "      <th>Institution</th>\n",
       "      <th>Country</th>\n",
       "      <th>National Rank</th>\n",
       "      <th>Quality of Education Rank</th>\n",
       "      <th>Alumni Employment Rank</th>\n",
       "      <th>Quality of Faculty Rank</th>\n",
       "      <th>Research Performance Rank</th>\n",
       "      <th>Score</th>\n",
       "    </tr>\n",
       "  </thead>\n",
       "  <tbody>\n",
       "    <tr>\n",
       "      <th>0</th>\n",
       "      <td>1</td>\n",
       "      <td>2019-2020</td>\n",
       "      <td>Harvard University</td>\n",
       "      <td>USA</td>\n",
       "      <td>1</td>\n",
       "      <td>2.0</td>\n",
       "      <td>1.0</td>\n",
       "      <td>1.0</td>\n",
       "      <td>1.0</td>\n",
       "      <td>100.0</td>\n",
       "    </tr>\n",
       "    <tr>\n",
       "      <th>2000</th>\n",
       "      <td>1</td>\n",
       "      <td>2020-2021</td>\n",
       "      <td>Harvard University</td>\n",
       "      <td>USA</td>\n",
       "      <td>1</td>\n",
       "      <td>3.0</td>\n",
       "      <td>1.0</td>\n",
       "      <td>1.0</td>\n",
       "      <td>1.0</td>\n",
       "      <td>100.0</td>\n",
       "    </tr>\n",
       "    <tr>\n",
       "      <th>4000</th>\n",
       "      <td>1</td>\n",
       "      <td>2021-2022</td>\n",
       "      <td>Harvard University</td>\n",
       "      <td>USA</td>\n",
       "      <td>1</td>\n",
       "      <td>1.0</td>\n",
       "      <td>1.0</td>\n",
       "      <td>1.0</td>\n",
       "      <td>1.0</td>\n",
       "      <td>100.0</td>\n",
       "    </tr>\n",
       "  </tbody>\n",
       "</table>\n",
       "</div>"
      ],
      "text/plain": [
       "      World Rank       Year         Institution Country  National Rank  \\\n",
       "0              1  2019-2020  Harvard University     USA              1   \n",
       "2000           1  2020-2021  Harvard University     USA              1   \n",
       "4000           1  2021-2022  Harvard University     USA              1   \n",
       "\n",
       "      Quality of Education Rank  Alumni Employment Rank  \\\n",
       "0                           2.0                     1.0   \n",
       "2000                        3.0                     1.0   \n",
       "4000                        1.0                     1.0   \n",
       "\n",
       "      Quality of Faculty Rank  Research Performance Rank  Score  \n",
       "0                         1.0                        1.0  100.0  \n",
       "2000                      1.0                        1.0  100.0  \n",
       "4000                      1.0                        1.0  100.0  "
      ]
     },
     "execution_count": 29,
     "metadata": {},
     "output_type": "execute_result"
    }
   ],
   "source": [
    "#Q2: Generate a pandas DataFrame containing all the statistics of the highest-ranked institution based on \"World Rank\" (Note: highest rank is 1).\n",
    "highest_rank_uni = rankings[ (rankings[\"World Rank\"] == 1) ] \n",
    "highest_rank_uni"
   ]
  },
  {
   "cell_type": "code",
   "execution_count": 9,
   "id": "c852026b",
   "metadata": {},
   "outputs": [
    {
     "data": {
      "text/html": [
       "<div>\n",
       "<style scoped>\n",
       "    .dataframe tbody tr th:only-of-type {\n",
       "        vertical-align: middle;\n",
       "    }\n",
       "\n",
       "    .dataframe tbody tr th {\n",
       "        vertical-align: top;\n",
       "    }\n",
       "\n",
       "    .dataframe thead th {\n",
       "        text-align: right;\n",
       "    }\n",
       "</style>\n",
       "<table border=\"1\" class=\"dataframe\">\n",
       "  <thead>\n",
       "    <tr style=\"text-align: right;\">\n",
       "      <th></th>\n",
       "      <th>World Rank</th>\n",
       "      <th>Year</th>\n",
       "      <th>Institution</th>\n",
       "      <th>Country</th>\n",
       "      <th>National Rank</th>\n",
       "      <th>Quality of Education Rank</th>\n",
       "      <th>Alumni Employment Rank</th>\n",
       "      <th>Quality of Faculty Rank</th>\n",
       "      <th>Research Performance Rank</th>\n",
       "      <th>Score</th>\n",
       "    </tr>\n",
       "  </thead>\n",
       "  <tbody>\n",
       "    <tr>\n",
       "      <th>24</th>\n",
       "      <td>25</td>\n",
       "      <td>2019-2020</td>\n",
       "      <td>University of Wisconsin–Madison</td>\n",
       "      <td>USA</td>\n",
       "      <td>19</td>\n",
       "      <td>28.0</td>\n",
       "      <td>80.0</td>\n",
       "      <td>35.0</td>\n",
       "      <td>27.0</td>\n",
       "      <td>87.3</td>\n",
       "    </tr>\n",
       "    <tr>\n",
       "      <th>2025</th>\n",
       "      <td>26</td>\n",
       "      <td>2020-2021</td>\n",
       "      <td>University of Wisconsin–Madison</td>\n",
       "      <td>USA</td>\n",
       "      <td>20</td>\n",
       "      <td>34.0</td>\n",
       "      <td>93.0</td>\n",
       "      <td>34.0</td>\n",
       "      <td>31.0</td>\n",
       "      <td>87.2</td>\n",
       "    </tr>\n",
       "    <tr>\n",
       "      <th>4024</th>\n",
       "      <td>25</td>\n",
       "      <td>2021-2022</td>\n",
       "      <td>University of Wisconsin–Madison</td>\n",
       "      <td>USA</td>\n",
       "      <td>19</td>\n",
       "      <td>33.0</td>\n",
       "      <td>97.0</td>\n",
       "      <td>29.0</td>\n",
       "      <td>32.0</td>\n",
       "      <td>87.3</td>\n",
       "    </tr>\n",
       "  </tbody>\n",
       "</table>\n",
       "</div>"
      ],
      "text/plain": [
       "      World Rank       Year                      Institution Country  \\\n",
       "24            25  2019-2020  University of Wisconsin–Madison     USA   \n",
       "2025          26  2020-2021  University of Wisconsin–Madison     USA   \n",
       "4024          25  2021-2022  University of Wisconsin–Madison     USA   \n",
       "\n",
       "      National Rank  Quality of Education Rank  Alumni Employment Rank  \\\n",
       "24               19                       28.0                    80.0   \n",
       "2025             20                       34.0                    93.0   \n",
       "4024             19                       33.0                    97.0   \n",
       "\n",
       "      Quality of Faculty Rank  Research Performance Rank  Score  \n",
       "24                       35.0                       27.0   87.3  \n",
       "2025                     34.0                       31.0   87.2  \n",
       "4024                     29.0                       32.0   87.3  "
      ]
     },
     "execution_count": 9,
     "metadata": {},
     "output_type": "execute_result"
    }
   ],
   "source": [
    "#Q3: Generate a pandas DataFrame containing all the statistics of \"University of Wisconsin–Madison\".\n",
    "\n",
    "uw_madison = rankings[ (rankings[\"Institution\"] == \"University of Wisconsin–Madison\") ] \n",
    "uw_madison"
   ]
  },
  {
   "cell_type": "code",
   "execution_count": 10,
   "id": "291d662f",
   "metadata": {},
   "outputs": [
    {
     "data": {
      "text/plain": [
       "19"
      ]
     },
     "execution_count": 10,
     "metadata": {},
     "output_type": "execute_result"
    }
   ],
   "source": [
    "#Q4: What is the \"National Rank\" of the \"University of Wisconsin–Madison\" in the year 2021-2022?\n",
    "\n",
    "data_21_22 = uw_madison[ (uw_madison[\"Year\"]==\"2021-2022\") ]\n",
    "data_21_22[\"National Rank\"].iloc[0]"
   ]
  },
  {
   "cell_type": "code",
   "execution_count": 11,
   "id": "8f5f6fee",
   "metadata": {},
   "outputs": [
    {
     "data": {
      "text/plain": [
       "87.26666666666667"
      ]
     },
     "execution_count": 11,
     "metadata": {},
     "output_type": "execute_result"
    }
   ],
   "source": [
    "#Q5: What is the average score of the \"University of Wisconsin–Madison\"?\n",
    "\n",
    "score_series_uwmadison = pd.Series (uw_madison[\"Score\"])\n",
    "pd.Series.mean(score_series_uwmadison)\n"
   ]
  },
  {
   "cell_type": "code",
   "execution_count": 12,
   "id": "43f656f2",
   "metadata": {},
   "outputs": [
    {
     "data": {
      "text/html": [
       "<div>\n",
       "<style scoped>\n",
       "    .dataframe tbody tr th:only-of-type {\n",
       "        vertical-align: middle;\n",
       "    }\n",
       "\n",
       "    .dataframe tbody tr th {\n",
       "        vertical-align: top;\n",
       "    }\n",
       "\n",
       "    .dataframe thead th {\n",
       "        text-align: right;\n",
       "    }\n",
       "</style>\n",
       "<table border=\"1\" class=\"dataframe\">\n",
       "  <thead>\n",
       "    <tr style=\"text-align: right;\">\n",
       "      <th></th>\n",
       "      <th>World Rank</th>\n",
       "      <th>Year</th>\n",
       "      <th>Institution</th>\n",
       "      <th>Country</th>\n",
       "      <th>National Rank</th>\n",
       "      <th>Quality of Education Rank</th>\n",
       "      <th>Alumni Employment Rank</th>\n",
       "      <th>Quality of Faculty Rank</th>\n",
       "      <th>Research Performance Rank</th>\n",
       "      <th>Score</th>\n",
       "    </tr>\n",
       "  </thead>\n",
       "  <tbody>\n",
       "    <tr>\n",
       "      <th>2094</th>\n",
       "      <td>95</td>\n",
       "      <td>2020-2021</td>\n",
       "      <td>National University of Singapore</td>\n",
       "      <td>Singapore</td>\n",
       "      <td>1</td>\n",
       "      <td>330.0</td>\n",
       "      <td>165.0</td>\n",
       "      <td>NaN</td>\n",
       "      <td>41.0</td>\n",
       "      <td>82.0</td>\n",
       "    </tr>\n",
       "    <tr>\n",
       "      <th>2139</th>\n",
       "      <td>140</td>\n",
       "      <td>2020-2021</td>\n",
       "      <td>Nanyang Technological University</td>\n",
       "      <td>Singapore</td>\n",
       "      <td>2</td>\n",
       "      <td>NaN</td>\n",
       "      <td>996.0</td>\n",
       "      <td>NaN</td>\n",
       "      <td>75.0</td>\n",
       "      <td>80.3</td>\n",
       "    </tr>\n",
       "    <tr>\n",
       "      <th>3150</th>\n",
       "      <td>1151</td>\n",
       "      <td>2020-2021</td>\n",
       "      <td>Singapore University of Technology and Design</td>\n",
       "      <td>Singapore</td>\n",
       "      <td>3</td>\n",
       "      <td>NaN</td>\n",
       "      <td>NaN</td>\n",
       "      <td>NaN</td>\n",
       "      <td>1092.0</td>\n",
       "      <td>69.4</td>\n",
       "    </tr>\n",
       "    <tr>\n",
       "      <th>3286</th>\n",
       "      <td>1287</td>\n",
       "      <td>2020-2021</td>\n",
       "      <td>Singapore Management University</td>\n",
       "      <td>Singapore</td>\n",
       "      <td>4</td>\n",
       "      <td>NaN</td>\n",
       "      <td>NaN</td>\n",
       "      <td>NaN</td>\n",
       "      <td>1225.0</td>\n",
       "      <td>68.7</td>\n",
       "    </tr>\n",
       "  </tbody>\n",
       "</table>\n",
       "</div>"
      ],
      "text/plain": [
       "      World Rank       Year                                    Institution  \\\n",
       "2094          95  2020-2021               National University of Singapore   \n",
       "2139         140  2020-2021               Nanyang Technological University   \n",
       "3150        1151  2020-2021  Singapore University of Technology and Design   \n",
       "3286        1287  2020-2021                Singapore Management University   \n",
       "\n",
       "        Country  National Rank  Quality of Education Rank  \\\n",
       "2094  Singapore              1                      330.0   \n",
       "2139  Singapore              2                        NaN   \n",
       "3150  Singapore              3                        NaN   \n",
       "3286  Singapore              4                        NaN   \n",
       "\n",
       "      Alumni Employment Rank  Quality of Faculty Rank  \\\n",
       "2094                   165.0                      NaN   \n",
       "2139                   996.0                      NaN   \n",
       "3150                     NaN                      NaN   \n",
       "3286                     NaN                      NaN   \n",
       "\n",
       "      Research Performance Rank  Score  \n",
       "2094                       41.0   82.0  \n",
       "2139                       75.0   80.3  \n",
       "3150                     1092.0   69.4  \n",
       "3286                     1225.0   68.7  "
      ]
     },
     "execution_count": 12,
     "metadata": {},
     "output_type": "execute_result"
    }
   ],
   "source": [
    "#Q6: Generate a pandas dataframe containing all the statistics of universities from Singapore in the year 2020-2021.\n",
    "\n",
    "singapore_20_21 = rankings[ (rankings[\"Country\"]==\"Singapore\") & (rankings[\"Year\"] == \"2020-2021\") ]\n",
    "singapore_20_21\n",
    "\n"
   ]
  },
  {
   "cell_type": "code",
   "execution_count": 13,
   "id": "dbcd278c",
   "metadata": {},
   "outputs": [
    {
     "data": {
      "text/plain": [
       "'Ludwig Maximilian University of Munich'"
      ]
     },
     "execution_count": 13,
     "metadata": {},
     "output_type": "execute_result"
    }
   ],
   "source": [
    "#Q7: In the year 2019-2020, what was the highest-ranked institution in Germany?\n",
    "\n",
    "german_19_20 = rankings[ (rankings[\"Country\"]==\"Germany\") & (rankings[\"Year\"]==\"2019-2020\") ]\n",
    "\n",
    "german_best = german_19_20[ german_19_20[\"National Rank\"] == 1]\n",
    "german_best_name = german_best[\"Institution\"].iloc[0]\n",
    "german_best_name\n"
   ]
  },
  {
   "cell_type": "code",
   "execution_count": 14,
   "id": "de7e66bc",
   "metadata": {},
   "outputs": [
    {
     "data": {
      "text/plain": [
       "['Harvard University',\n",
       " 'Massachusetts Institute of Technology',\n",
       " 'Stanford University',\n",
       " 'Columbia University',\n",
       " 'Princeton University',\n",
       " 'University of California, Berkeley',\n",
       " 'University of Pennsylvania',\n",
       " 'University of Chicago',\n",
       " 'California Institute of Technology',\n",
       " 'Yale University',\n",
       " 'Cornell University',\n",
       " 'Northwestern University',\n",
       " 'University of California, Los Angeles',\n",
       " 'University of Michigan, Ann Arbor',\n",
       " 'Johns Hopkins University',\n",
       " 'University of Washington - Seattle',\n",
       " 'University of Illinois at Urbana–Champaign',\n",
       " 'Duke University',\n",
       " 'University of Wisconsin–Madison',\n",
       " 'New York University',\n",
       " 'University of California San Diego',\n",
       " 'University of Texas at Austin',\n",
       " 'University of California, San Francisco',\n",
       " 'University of North Carolina at Chapel Hill',\n",
       " 'University of Minnesota - Twin Cities',\n",
       " 'University of Texas Southwestern Medical Center',\n",
       " 'Washington University in St. Louis',\n",
       " 'University of Southern California',\n",
       " 'Brown University',\n",
       " 'Vanderbilt University',\n",
       " 'Pennsylvania State University',\n",
       " 'Rutgers University–New Brunswick',\n",
       " 'Dartmouth College',\n",
       " 'University of California, Davis']"
      ]
     },
     "execution_count": 14,
     "metadata": {},
     "output_type": "execute_result"
    }
   ],
   "source": [
    "#Q8: In the year 2019-2020, list all the institutions in the USA ranked better than the highest-ranked institution in Germany.\n",
    "\n",
    "usa_19_20 = rankings[ (rankings[\"Country\"]==\"USA\") & (rankings[\"Year\"]==\"2019-2020\") ]\n",
    "german_world_rank = german_best[\"World Rank\"].iloc[0]\n",
    "better_rank_usa_df = usa_19_20[ (usa_19_20[\"World Rank\"]< german_world_rank ) ]\n",
    "\n",
    "better_rank_usa = list(better_rank_usa_df[\"Institution\"])\n",
    "better_rank_usa\n"
   ]
  },
  {
   "cell_type": "code",
   "execution_count": 15,
   "id": "0a4892e3",
   "metadata": {},
   "outputs": [
    {
     "data": {
      "text/plain": [
       "'Fudan University'"
      ]
     },
     "execution_count": 15,
     "metadata": {},
     "output_type": "execute_result"
    }
   ],
   "source": [
    "#Q9: What is the highest-ranked institution based on “Quality of Education Rank” in China for the year 2021-2022?\n",
    "\n",
    "china_21_22 = rankings[ (rankings[\"Country\"]==\"China\") & (rankings[\"Year\"] == \"2021-2022\") ]\n",
    "china_highest_rank_21_22 = china_21_22[ (china_21_22[\"Quality of Education Rank\"] == pd.Series.min(china_21_22[\"Quality of Education Rank\"]))]\n",
    "china_highest_rank_21_22[\"Institution\"].iloc[0]\n"
   ]
  },
  {
   "cell_type": "code",
   "execution_count": 16,
   "id": "37295618",
   "metadata": {},
   "outputs": [
    {
     "data": {
      "text/plain": [
       "['Indian Institute of Science',\n",
       " 'Tata Institute of Fundamental Research',\n",
       " 'Indian Institute of Technology Bombay',\n",
       " 'University of Delhi',\n",
       " 'Indian Institute of Technology Madras']"
      ]
     },
     "execution_count": 16,
     "metadata": {},
     "output_type": "execute_result"
    }
   ],
   "source": [
    "#Q10: What are the top five highest-ranked institutions based on \"Research Performance Rank\" in India for the year 2020-2021?\n",
    "\n",
    "india_20_21 = rankings[ (rankings[\"Country\"]==\"India\") & (rankings[\"Year\"] == \"2020-2021\") ]\n",
    "india_sort = india_20_21.sort_values( by = \"Research Performance Rank\"  )\n",
    "top_five_india = list(india_sort[\"Institution\"].iloc[0:5])\n",
    "top_five_india\n",
    "\n"
   ]
  },
  {
   "cell_type": "code",
   "execution_count": 17,
   "id": "2cd2db85",
   "metadata": {},
   "outputs": [
    {
     "data": {
      "text/plain": [
       "1856"
      ]
     },
     "execution_count": 17,
     "metadata": {},
     "output_type": "execute_result"
    }
   ],
   "source": [
    "#Q11: How many institutions have rankings for all three years?\n",
    "\n",
    "year_2019_ranking_df = rankings[ (rankings[\"Year\"] == \"2019-2020\")] \n",
    "year_2020_ranking_df = rankings[ (rankings[\"Year\"] == \"2020-2021\")] \n",
    "year_2021_ranking_df = rankings[ (rankings[\"Year\"] == \"2021-2022\")] \n",
    "\n",
    "year_2019_list = list(year_2019_ranking_df[\"Institution\"])\n",
    "year_2020_list = list(year_2020_ranking_df[\"Institution\"])\n",
    "year_2021_list = list(year_2021_ranking_df[\"Institution\"])\n",
    "\n",
    "\n",
    "# citation from the internet for codes finding the intersection: https://www.adamsmith.haus/python/answers/how-to-find-the-intersection-of-two-lists-in-python\n",
    "institution_2019_2020_2021 = list(set.intersection(set(year_2019_list),set(year_2020_list),set(year_2021_list)))\n",
    "len(institution_2019_2020_2021)\n"
   ]
  },
  {
   "cell_type": "code",
   "execution_count": 18,
   "id": "8c9d8965",
   "metadata": {},
   "outputs": [],
   "source": [
    "institutions = []\n",
    "\n",
    "for institution in institution_2019_2020_2021: # use your output list from Q11 here\n",
    "    year_2019_ranking =  rankings[ (rankings[\"Institution\"] == institution) & (rankings[\"Year\"] == \"2019-2020\")][\"World Rank\"]# TODO: use boolean indexing to find the \"World Rank\" for current institution in the year 2019\n",
    "    year_2020_ranking =  rankings[ (rankings[\"Institution\"] == institution) & (rankings[\"Year\"] == \"2020-2021\")][\"World Rank\"]# TODO: use boolean indexing to find the \"World Rank\" for current institution in the year 2020\n",
    "    year_2021_ranking =  rankings[ (rankings[\"Institution\"] == institution) & (rankings[\"Year\"] == \"2021-2022\")][\"World Rank\"]# TODO: use boolean indexing to find the \"World Rank\" for current institution in the year 2021\n",
    "\n",
    "    # now let's create a dictionary representation of the institution\n",
    "    # each key corresponds to the column of the DataFrame we want to build\n",
    "    institution_info = {}\n",
    "    institution_info['Institution'] = institution\n",
    "    institution_info['2019_ranking'] = year_2019_ranking.iloc[0]\n",
    "    institution_info['2020_ranking'] = year_2020_ranking.iloc[0]\n",
    "    institution_info['2021_ranking'] = year_2021_ranking.iloc[0]\n",
    "\n",
    "    institutions.append(institution_info)\n",
    "\n",
    "institutions_df = pd.DataFrame(institutions)\n"
   ]
  },
  {
   "cell_type": "code",
   "execution_count": 19,
   "id": "accf61e2",
   "metadata": {},
   "outputs": [
    {
     "data": {
      "text/plain": [
       "['École nationale supérieure de chimie de Montpellier',\n",
       " 'Federal University of Mato Grosso do Sul',\n",
       " 'International Institute for Management Development',\n",
       " 'SOAS University of London',\n",
       " 'USI - University of Italian Speaking Switzerland',\n",
       " 'Tôn Đức Thắng University',\n",
       " 'Academy of Scientific & Innovative Research',\n",
       " 'Antioch College',\n",
       " 'Haverford College']"
      ]
     },
     "execution_count": 19,
     "metadata": {},
     "output_type": "execute_result"
    }
   ],
   "source": [
    "#Q12: Between the years 2019-2020 and 2021-2022, list the institutions which have seen an improvement in their \"World Rank\" by more than 500 ranks.\n",
    "\n",
    "institutions_df[\"Differences_19_21\"] = institutions_df[\"2019_ranking\"]-institutions_df[\"2021_ranking\"]\n",
    "institution_improved_df = institutions_df[ institutions_df[\"Differences_19_21\"]>500 ]\n",
    "institution_improved = list(institution_improved_df[\"Institution\"]) \n",
    "institution_improved\n",
    "\n"
   ]
  },
  {
   "cell_type": "code",
   "execution_count": 20,
   "id": "6f150209",
   "metadata": {},
   "outputs": [
    {
     "data": {
      "text/plain": [
       "'USI - University of Italian Speaking Switzerland'"
      ]
     },
     "execution_count": 20,
     "metadata": {},
     "output_type": "execute_result"
    }
   ],
   "source": [
    "#Q13: Between the years 2019-2020 and 2021-2022, which institution had the largest change in its \"World Rank\"?\n",
    "\n",
    "max_change = abs(institutions_df[\"Differences_19_21\"]).max()\n",
    "institution_max_change = institutions_df[ abs(institutions_df[\"Differences_19_21\"])== max_change ]\n",
    "institution_max_change[\"Institution\"].iloc[0]"
   ]
  },
  {
   "cell_type": "code",
   "execution_count": 21,
   "id": "bcbe4d1e",
   "metadata": {},
   "outputs": [
    {
     "data": {
      "text/plain": [
       "451"
      ]
     },
     "execution_count": 21,
     "metadata": {},
     "output_type": "execute_result"
    }
   ],
   "source": [
    "#Q14: For all the three years, find the number of institutions that improved their World Rank each year.\n",
    "\n",
    "institutions_df[\"Differences_19_20\"] = institutions_df[\"2019_ranking\"]-institutions_df[\"2020_ranking\"]\n",
    "institutions_df[\"Differences_20_21\"] = institutions_df[\"2020_ranking\"]-institutions_df[\"2021_ranking\"]\n",
    "\n",
    "improve_everyyear_df = institutions_df[ (institutions_df[\"Differences_19_20\"] > 0) & (institutions_df[\"Differences_20_21\"] > 0) ]               \n",
    "len(improve_everyyear_df)                               \n",
    "                   "
   ]
  },
  {
   "cell_type": "code",
   "execution_count": 22,
   "id": "519cdbd8",
   "metadata": {},
   "outputs": [
    {
     "data": {
      "text/plain": [
       "['University of Tokyo',\n",
       " 'Institut Polytechnique de Paris',\n",
       " 'China Europe International Business School',\n",
       " 'HEC Paris',\n",
       " 'International Institute for Management Development',\n",
       " 'INSEAD',\n",
       " \"École nationale d'administration\"]"
      ]
     },
     "execution_count": 22,
     "metadata": {},
     "output_type": "execute_result"
    }
   ],
   "source": [
    "#Q15: In the year 2020-2021, list the institutions which are within the top 10 in the world based on \"Alumni Employment Rank\" but do not feature in the top 10 of the world ranking.\n",
    "\n",
    "\n",
    "worldrankings_top_ten = year_2020_ranking_df.sort_values(by = \"World Rank\").iloc[0:10]\n",
    "alumni_rank_sort = year_2020_ranking_df.sort_values(by = \"Alumni Employment Rank\")\n",
    "\n",
    "alumni_rank_top_ten = list(set(alumni_rank_sort[\"Institution\"].iloc[0:10]) - set(worldrankings_top_ten[\"Institution\"]))\n",
    "alumni_rank_top_ten\n",
    "\n"
   ]
  },
  {
   "cell_type": "code",
   "execution_count": 23,
   "id": "2239c948",
   "metadata": {},
   "outputs": [
    {
     "data": {
      "text/plain": [
       "['University of Texas MD Anderson Cancer Center',\n",
       " 'Paris Diderot University',\n",
       " 'University of Groningen',\n",
       " 'École Polytechnique',\n",
       " 'Paris-Sud University',\n",
       " 'University of California San Diego',\n",
       " 'Emory University',\n",
       " 'Tufts University',\n",
       " 'Aarhus University',\n",
       " 'École Polytechnique Fédérale de Lausanne',\n",
       " 'University of Utah',\n",
       " 'École normale supérieure']"
      ]
     },
     "execution_count": 23,
     "metadata": {},
     "output_type": "execute_result"
    }
   ],
   "source": [
    "#Q16: List the universities which ranked in the top 100 of world rankings in the year 2019-2020 but failed to do so in the rankings of year 2021-2022.\n",
    "\n",
    "\n",
    "\n",
    "year_2019_top100 = year_2019_ranking_df.sort_values(by = \"World Rank\")[0:100]\n",
    "year_2021_top100 = year_2021_ranking_df.sort_values(by = \"World Rank\")[0:100]\n",
    "\n",
    "# citatiion for code finding intersection://www.adamsmith.haus/python/answers/how-to-find-the-intersection-of-two-lists-in-pythone\n",
    "both_year_top100_set = set.intersection(set(year_2019_top100[\"Institution\"]),set(year_2021_top100[\"Institution\"]))\n",
    "\n",
    "institution_not_in_2021_top100 = list(set(year_2019_top100[\"Institution\"]) - both_year_top100_set)\n",
    "\n",
    "\n",
    "institution_not_in_2021_top100\n"
   ]
  },
  {
   "cell_type": "code",
   "execution_count": 24,
   "id": "2592b039",
   "metadata": {},
   "outputs": [
    {
     "data": {
      "text/plain": [
       "['USA', 'United Kingdom']"
      ]
     },
     "execution_count": 24,
     "metadata": {},
     "output_type": "execute_result"
    }
   ],
   "source": [
    "#Q17: List the countries which have at least 10 institutions featuring in the top 100 of world rankings in the year 2020-2021.\n",
    "\n",
    "\n",
    "year_2020_top100 = year_2020_ranking_df.sort_values(by = \"World Rank\")[0:100]\n",
    "country_count_top100_series = year_2020_top100[\"Country\"].value_counts()\n",
    "country_count_top100 = list(country_count_top100_series[country_count_top100_series>=10].index)\n",
    "country_count_top100\n",
    "\n"
   ]
  },
  {
   "cell_type": "code",
   "execution_count": 25,
   "id": "07482f0a",
   "metadata": {},
   "outputs": [
    {
     "data": {
      "text/plain": [
       "['World Rank',\n",
       " 'Institution',\n",
       " 'Country',\n",
       " 'National Rank',\n",
       " 'Quality of Education Rank',\n",
       " 'Alumni Employment Rank',\n",
       " 'Quality of Faculty Rank',\n",
       " 'Research Performance Rank',\n",
       " 'Score']"
      ]
     },
     "execution_count": 25,
     "metadata": {},
     "output_type": "execute_result"
    }
   ],
   "source": [
    "#Q18: Use BeautifulSoup to parse 2019-2020.html, and find the table containing the ranking data. What are the column names of this table?\n",
    "\n",
    "html_2019_2020 = open(\"2019-2020.html\", \"r\")\n",
    "content_2019_2020 = html_2019_2020.read()\n",
    "html_2019_2020.close()\n",
    "\n",
    "bs_obj_2019_2020 = BeautifulSoup(content_2019_2020, 'html.parser')\n",
    "\n",
    "table_2019_2020 = bs_obj_2019_2020.find_all(\"table\")\n",
    "\n",
    "header = [th.get_text() for table in table_2019_2020 for th in table.find_all(\"th\")  ]\n",
    "header\n"
   ]
  },
  {
   "cell_type": "code",
   "execution_count": 26,
   "id": "99765b21",
   "metadata": {},
   "outputs": [
    {
     "data": {
      "text/plain": [
       "[{'Year': '2019-2020',\n",
       "  'World Rank': 1,\n",
       "  'Institution': 'Harvard University',\n",
       "  'Country': 'USA',\n",
       "  'National Rank': 1,\n",
       "  'Quality of Education Rank': 2,\n",
       "  'Alumni Employment Rank': 1,\n",
       "  'Quality of Faculty Rank': 1,\n",
       "  'Research Performance Rank': 1,\n",
       "  'Score': 100.0},\n",
       " {'Year': '2019-2020',\n",
       "  'World Rank': 2,\n",
       "  'Institution': 'Massachusetts Institute of Technology',\n",
       "  'Country': 'USA',\n",
       "  'National Rank': 2,\n",
       "  'Quality of Education Rank': 1,\n",
       "  'Alumni Employment Rank': 10,\n",
       "  'Quality of Faculty Rank': 2,\n",
       "  'Research Performance Rank': 5,\n",
       "  'Score': 96.7},\n",
       " {'Year': '2019-2020',\n",
       "  'World Rank': 3,\n",
       "  'Institution': 'Stanford University',\n",
       "  'Country': 'USA',\n",
       "  'National Rank': 3,\n",
       "  'Quality of Education Rank': 9,\n",
       "  'Alumni Employment Rank': 3,\n",
       "  'Quality of Faculty Rank': 3,\n",
       "  'Research Performance Rank': 2,\n",
       "  'Score': 95.2},\n",
       " {'Year': '2019-2020',\n",
       "  'World Rank': 4,\n",
       "  'Institution': 'University of Cambridge',\n",
       "  'Country': 'United Kingdom',\n",
       "  'National Rank': 1,\n",
       "  'Quality of Education Rank': 4,\n",
       "  'Alumni Employment Rank': 19,\n",
       "  'Quality of Faculty Rank': 5,\n",
       "  'Research Performance Rank': 11,\n",
       "  'Score': 94.1},\n",
       " {'Year': '2019-2020',\n",
       "  'World Rank': 5,\n",
       "  'Institution': 'University of Oxford',\n",
       "  'Country': 'United Kingdom',\n",
       "  'National Rank': 2,\n",
       "  'Quality of Education Rank': 10,\n",
       "  'Alumni Employment Rank': 24,\n",
       "  'Quality of Faculty Rank': 10,\n",
       "  'Research Performance Rank': 4,\n",
       "  'Score': 93.3}]"
      ]
     },
     "execution_count": 26,
     "metadata": {},
     "output_type": "execute_result"
    }
   ],
   "source": [
    "#Q19: Parse the contents of the table you found in 2019-2020.html and represent it as a list of dicts. What are the first 5 dictionaries in the list?\n",
    "\n",
    "def parse_html(filename):\n",
    "    html_filename = open(filename, \"r\")\n",
    "    content_filename = html_filename.read()\n",
    "    html_filename.close()\n",
    "    bs_obj_filename = BeautifulSoup(content_filename, 'html.parser')\n",
    "    table_filename = bs_obj_filename.find_all(\"table\")\n",
    "    header = [th.get_text() for table in table_filename for th in table.find_all(\"th\")]\n",
    "    row_list=[]\n",
    "    row_filename = bs_obj_filename.find_all(\"tr\")[1:]\n",
    "    for tr in row_filename:\n",
    "        values = tr.find_all(\"td\")\n",
    "        row_dict = {}\n",
    "        row_dict[\"Year\"]=filename.split(\".\")[0]\n",
    "        for i in range(len(header)):\n",
    "            text_val = values[i].text\n",
    "            if text_val == \"-\":\n",
    "                row_dict[header[i]] = None\n",
    "            elif header[i] in [\"World Rank\", \"National Rank\", \"Quality of Education Rank\", \"Alumni Employment Rank\", \"Quality of Faculty Rank\", \"Research Performance Rank\"]:\n",
    "                row_dict[header[i]]=int(text_val)\n",
    "            elif header[i] == \"Score\":\n",
    "                row_dict[header[i]]=float(text_val)\n",
    "            else:\n",
    "                row_dict[header[i]]=text_val\n",
    "        row_list.append(row_dict)\n",
    "    return row_list\n",
    "\n",
    "parse_html(\"2019-2020.html\")[0:5]"
   ]
  },
  {
   "cell_type": "code",
   "execution_count": 27,
   "id": "62cad003",
   "metadata": {},
   "outputs": [],
   "source": [
    "\n",
    "\n"
   ]
  },
  {
   "cell_type": "code",
   "execution_count": null,
   "id": "14547d3e",
   "metadata": {},
   "outputs": [],
   "source": []
  }
 ],
 "metadata": {
  "kernelspec": {
   "display_name": "Python 3 (ipykernel)",
   "language": "python",
   "name": "python3"
  },
  "language_info": {
   "codemirror_mode": {
    "name": "ipython",
    "version": 3
   },
   "file_extension": ".py",
   "mimetype": "text/x-python",
   "name": "python",
   "nbconvert_exporter": "python",
   "pygments_lexer": "ipython3",
   "version": "3.9.7"
  }
 },
 "nbformat": 4,
 "nbformat_minor": 5
}
