{
 "cells": [
  {
   "cell_type": "code",
   "execution_count": 1,
   "id": "ddc0808a",
   "metadata": {},
   "outputs": [],
   "source": [
    "#q1\n",
    "from bs4 import BeautifulSoup\n",
    "html = \"...\" # is a string that contains html\n",
    "b = BeautifulSoup(html, 'html.parser')\n",
    "\n",
    "\n"
   ]
  },
  {
   "cell_type": "code",
   "execution_count": 2,
   "id": "1820099c",
   "metadata": {},
   "outputs": [
    {
     "name": "stdout",
     "output_type": "stream",
     "text": [
      "y\n",
      "z\n"
     ]
    }
   ],
   "source": [
    "#q3\n",
    "\n",
    "from bs4 import BeautifulSoup\n",
    "html = \"<h3><b>Items</b></h3><ul><li>x</li><li><b>y</b></li><li><b>z</b></li></ul>\"\n",
    "doc = BeautifulSoup(html, \"html.parser\")\n",
    "elements = doc.find_all(\"li\") #get all list items\n",
    "bold_elements = []\n",
    "for e in elements:\n",
    "    if e.find(\"b\") != None: #checks if the list element e is bolded\n",
    "        bold_elements.append(e)\n",
    "for item in bold_elements:\n",
    "     print(item.get_text())\n",
    "\n"
   ]
  },
  {
   "cell_type": "code",
   "execution_count": 4,
   "id": "fe4f580c",
   "metadata": {},
   "outputs": [
    {
     "data": {
      "text/plain": [
       "<b>Items</b>"
      ]
     },
     "execution_count": 4,
     "metadata": {},
     "output_type": "execute_result"
    }
   ],
   "source": [
    "html = \"<h3><b>Items</b></h3><ul><li>x</li><li><b>y</b></li><li><b>z</b></li></ul>\" # is a string that contains html\n",
    "doc = BeautifulSoup(html, \"html.parser\") \n",
    "bold = doc.find(\"b\")\n",
    "bold"
   ]
  },
  {
   "cell_type": "code",
   "execution_count": 5,
   "id": "d81abd4e",
   "metadata": {},
   "outputs": [
    {
     "data": {
      "text/plain": [
       "dict"
      ]
     },
     "execution_count": 5,
     "metadata": {},
     "output_type": "execute_result"
    }
   ],
   "source": [
    "#q5\n",
    "from bs4 import BeautifulSoup\n",
    "html = '<a href=\"quiz.html\"><b>this</b>is<i>quiz11</i></a>'\n",
    "doc = BeautifulSoup(html, \"html.parser\")\n",
    "link = doc.find(\"a\")\n",
    "type(link.attrs)"
   ]
  },
  {
   "cell_type": "code",
   "execution_count": null,
   "id": "f8268695",
   "metadata": {},
   "outputs": [],
   "source": [
    "#q8\n",
    "big10 = [\"Indiana\", \"Maryland\", \"Michigan\", \"Michigan State\", \"Ohio State\", \"Penn State\", \"Rutgers\", \"Illinois\", \"Iowa\", \"Minnesota\", \"Nebraska\", \"Northwesatern\", \"Purdue\", \"Wisconsin\"]\n"
   ]
  },
  {
   "cell_type": "code",
   "execution_count": 9,
   "id": "245387e5",
   "metadata": {},
   "outputs": [
    {
     "ename": "SyntaxError",
     "evalue": "invalid syntax (2868914224.py, line 3)",
     "output_type": "error",
     "traceback": [
      "\u001b[0;36m  File \u001b[0;32m\"/var/folders/0n/5xxyjxcn5msb7c9kb_j5sq380000gn/T/ipykernel_13975/2868914224.py\"\u001b[0;36m, line \u001b[0;32m3\u001b[0m\n\u001b[0;31m    <table>\u001b[0m\n\u001b[0m    ^\u001b[0m\n\u001b[0;31mSyntaxError\u001b[0m\u001b[0;31m:\u001b[0m invalid syntax\n"
     ]
    }
   ],
   "source": [
    "#9\n",
    "\n",
    "<table> \n",
    "    <tr>\n",
    "        <td>1</td> \n",
    "        <td>3</td> \n",
    "        <td>5</td>\n",
    "    </tr> \n",
    "    <tr>\n",
    "        <td>2</td> \n",
    "        <td>4</td> \n",
    "        <td>6</td>\n",
    "    </tr> \n",
    "</table> "
   ]
  },
  {
   "cell_type": "code",
   "execution_count": null,
   "id": "674bc734",
   "metadata": {},
   "outputs": [],
   "source": []
  }
 ],
 "metadata": {
  "kernelspec": {
   "display_name": "Python 3 (ipykernel)",
   "language": "python",
   "name": "python3"
  },
  "language_info": {
   "codemirror_mode": {
    "name": "ipython",
    "version": 3
   },
   "file_extension": ".py",
   "mimetype": "text/x-python",
   "name": "python",
   "nbconvert_exporter": "python",
   "pygments_lexer": "ipython3",
   "version": "3.9.7"
  }
 },
 "nbformat": 4,
 "nbformat_minor": 5
}
